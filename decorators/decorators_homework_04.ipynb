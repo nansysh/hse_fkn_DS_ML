{
 "cells": [
  {
   "cell_type": "markdown",
   "metadata": {
    "id": "QY4qPJPpgyIS"
   },
   "source": [
    "# Домашнее задание: декораторы"
   ]
  },
  {
   "cell_type": "markdown",
   "metadata": {
    "id": "Chacc6YchldZ"
   },
   "source": [
    "## Импорт библиотек, установка констант"
   ]
  },
  {
   "cell_type": "code",
   "execution_count": 1,
   "metadata": {
    "executionInfo": {
     "elapsed": 5,
     "status": "ok",
     "timestamp": 1709655317804,
     "user": {
      "displayName": "Anastasiya Shche",
      "userId": "06015545878720649952"
     },
     "user_tz": -180
    },
    "id": "w8iKrWvwhrFd"
   },
   "outputs": [],
   "source": [
    "import requests\n",
    "import time\n",
    "import re\n",
    "\n",
    "from random import randint"
   ]
  },
  {
   "cell_type": "code",
   "execution_count": 2,
   "metadata": {
    "executionInfo": {
     "elapsed": 2,
     "status": "ok",
     "timestamp": 1709655321067,
     "user": {
      "displayName": "Anastasiya Shche",
      "userId": "06015545878720649952"
     },
     "user_tz": -180
    },
    "id": "-LRkS0fSi8Np"
   },
   "outputs": [],
   "source": [
    "BOOK_PATH = 'https://www.gutenberg.org/files/2638/2638-0.txt'"
   ]
  },
  {
   "cell_type": "markdown",
   "metadata": {
    "id": "kARfL8ifg4MH"
   },
   "source": [
    "## Задание 1"
   ]
  },
  {
   "cell_type": "code",
   "execution_count": 4,
   "metadata": {
    "executionInfo": {
     "elapsed": 3,
     "status": "ok",
     "timestamp": 1709655979772,
     "user": {
      "displayName": "Anastasiya Shche",
      "userId": "06015545878720649952"
     },
     "user_tz": -180
    },
    "id": "hNHNWPhngrUl"
   },
   "outputs": [],
   "source": [
    "def benchmark(func):\n",
    "    \"\"\"\n",
    "    Декоратор, выводящий время, которое заняло выполнение декорируемой функции\n",
    "    \"\"\"\n",
    "\n",
    "    def wrapper(*args, **kwargs):\n",
    "        start_time = time.time()\n",
    "        result = func(*args, **kwargs)\n",
    "        end_time = time.time()\n",
    "        print(f\"Время выполнения функции {func.__name__}: {end_time - start_time} секунд\")\n",
    "        return result\n",
    "    return wrapper"
   ]
  },
  {
   "cell_type": "markdown",
   "metadata": {
    "id": "tGlbUKjihL5n"
   },
   "source": [
    "## Задание 2"
   ]
  },
  {
   "cell_type": "code",
   "execution_count": 5,
   "metadata": {
    "executionInfo": {
     "elapsed": 290,
     "status": "ok",
     "timestamp": 1709656120570,
     "user": {
      "displayName": "Anastasiya Shche",
      "userId": "06015545878720649952"
     },
     "user_tz": -180
    },
    "id": "wugOZDLqhNe-"
   },
   "outputs": [],
   "source": [
    "def logging(func):\n",
    "    \"\"\"\n",
    "    Декоратор, который выводит параметры с которыми была вызвана функция\n",
    "    \"\"\"\n",
    "\n",
    "    def wrapper(*args, **kwargs):\n",
    "        print(f\"Функция {func.__name__} была вызвана с параметрами:\")\n",
    "        print(f\"Позиционные аргументы: {args}\")\n",
    "        print(f\"Именованные аргументы: {kwargs}\")\n",
    "        return func(*args, **kwargs)\n",
    "    return wrapper"
   ]
  },
  {
   "cell_type": "markdown",
   "metadata": {
    "id": "Sq1tv5fshTfv"
   },
   "source": [
    "## Задание 3"
   ]
  },
  {
   "cell_type": "code",
   "execution_count": 8,
   "metadata": {
    "executionInfo": {
     "elapsed": 262,
     "status": "ok",
     "timestamp": 1709656449603,
     "user": {
      "displayName": "Anastasiya Shche",
      "userId": "06015545878720649952"
     },
     "user_tz": -180
    },
    "id": "9nyvuxXkhVeb"
   },
   "outputs": [],
   "source": [
    "def counter(func):\n",
    "    \"\"\"\n",
    "    Декоратор, считающий и выводящий количество вызовов декорируемой функции\n",
    "    \"\"\"\n",
    "\n",
    "    def wrapper(*args, **kwargs):\n",
    "        wrapper.count += 1\n",
    "        print(f\"Функция {func.__name__} была вызвана {wrapper.count} раз\")\n",
    "        return func(*args, **kwargs)\n",
    "    wrapper.count = 0\n",
    "    return wrapper"
   ]
  },
  {
   "cell_type": "markdown",
   "metadata": {
    "id": "uHn8Adfshz5q"
   },
   "source": [
    "## Задание 4"
   ]
  },
  {
   "cell_type": "code",
   "execution_count": 6,
   "metadata": {
    "executionInfo": {
     "elapsed": 616,
     "status": "ok",
     "timestamp": 1709656404204,
     "user": {
      "displayName": "Anastasiya Shche",
      "userId": "06015545878720649952"
     },
     "user_tz": -180
    },
    "id": "R7uu6WtGifNX"
   },
   "outputs": [],
   "source": [
    "def memo(func):\n",
    "  \"\"\"\n",
    "  Декоратор, запоминающий результаты исполнения функции func, чьи аргументы args должны быть хешируемыми\n",
    "  \"\"\"\n",
    "  cache = {}\n",
    "\n",
    "  def fmemo(*args):\n",
    "      if args not in cache:\n",
    "          cache[args] = func(*args)\n",
    "      return cache[args]\n",
    "\n",
    "  fmemo.cache = cache\n",
    "  return fmemo"
   ]
  },
  {
   "cell_type": "markdown",
   "metadata": {
    "id": "Zn5UQCa_izxo"
   },
   "source": [
    "## Тестирование"
   ]
  },
  {
   "cell_type": "code",
   "execution_count": 9,
   "metadata": {
    "colab": {
     "base_uri": "https://localhost:8080/"
    },
    "executionInfo": {
     "elapsed": 838,
     "status": "ok",
     "timestamp": 1709656455085,
     "user": {
      "displayName": "Anastasiya Shche",
      "userId": "06015545878720649952"
     },
     "user_tz": -180
    },
    "id": "CHCJ64I8i2QB",
    "outputId": "932f13e6-6cc2-4aac-fdb7-1b7d347ecef0"
   },
   "outputs": [
    {
     "name": "stdout",
     "output_type": "stream",
     "text": [
      "Функция wrapper была вызвана 1 раз\n",
      "Функция wrapper была вызвана с параметрами:\n",
      "Позиционные аргументы: ('whole',)\n",
      "Именованные аргументы: {}\n",
      "Время выполнения функции word_count: 0.5123860836029053 секунд\n",
      "Cлово whole встречается 176 раз\n"
     ]
    }
   ],
   "source": [
    "@counter\n",
    "@logging\n",
    "@benchmark\n",
    "def word_count(word, url=BOOK_PATH):\n",
    "    \"\"\"\n",
    "    Функция для посчета указанного слова на html-странице\n",
    "    \"\"\"\n",
    "\n",
    "    # отправляем запрос в библиотеку Gutenberg и забираем текст\n",
    "    raw = requests.get(url).text\n",
    "\n",
    "    # заменяем в тексте все небуквенные символы на пробелы\n",
    "    processed_book = re.sub('[\\W]+' , ' ', raw).lower()\n",
    "\n",
    "    # считаем\n",
    "    cnt = len(re.findall(word.lower(), processed_book))\n",
    "\n",
    "    return f\"Cлово {word} встречается {cnt} раз\"\n",
    "\n",
    "print(word_count('whole'))"
   ]
  },
  {
   "cell_type": "code",
   "execution_count": 22,
   "metadata": {
    "executionInfo": {
     "elapsed": 3,
     "status": "ok",
     "timestamp": 1709657413492,
     "user": {
      "displayName": "Anastasiya Shche",
      "userId": "06015545878720649952"
     },
     "user_tz": -180
    },
    "id": "ZE4Rfn-hh3k3"
   },
   "outputs": [],
   "source": [
    "def fib(n):\n",
    "    if n < 2:\n",
    "        return n\n",
    "    return fib(n-2) + fib(n-1)"
   ]
  },
  {
   "cell_type": "code",
   "execution_count": 24,
   "metadata": {
    "colab": {
     "base_uri": "https://localhost:8080/"
    },
    "executionInfo": {
     "elapsed": 544,
     "status": "ok",
     "timestamp": 1709657435593,
     "user": {
      "displayName": "Anastasiya Shche",
      "userId": "06015545878720649952"
     },
     "user_tz": -180
    },
    "id": "Io94NyjiiXG4",
    "outputId": "8b75722a-e757-4bc6-976b-4e252e43b3cd"
   },
   "outputs": [
    {
     "name": "stdout",
     "output_type": "stream",
     "text": [
      "Время выполнения расчета чисел Фибоначчи без декоратора: 0.3265516757965088 секунд\n"
     ]
    }
   ],
   "source": [
    "# измеряем время выполнения\n",
    "start_time = time.time()\n",
    "result1 = fib(31)\n",
    "end_time = time.time()\n",
    "print(f\"Время выполнения расчета чисел Фибоначчи без декоратора: {end_time - start_time} секунд\")"
   ]
  },
  {
   "cell_type": "code",
   "execution_count": 25,
   "metadata": {
    "executionInfo": {
     "elapsed": 264,
     "status": "ok",
     "timestamp": 1709657439790,
     "user": {
      "displayName": "Anastasiya Shche",
      "userId": "06015545878720649952"
     },
     "user_tz": -180
    },
    "id": "W9B3e-t9iTUj"
   },
   "outputs": [],
   "source": [
    "@memo\n",
    "def fib(n):\n",
    "    if n < 2:\n",
    "        return n\n",
    "    return fib(n-2) + fib(n-1)"
   ]
  },
  {
   "cell_type": "code",
   "execution_count": 27,
   "metadata": {
    "colab": {
     "base_uri": "https://localhost:8080/"
    },
    "executionInfo": {
     "elapsed": 252,
     "status": "ok",
     "timestamp": 1709657447754,
     "user": {
      "displayName": "Anastasiya Shche",
      "userId": "06015545878720649952"
     },
     "user_tz": -180
    },
    "id": "Sk6_4KQaidkh",
    "outputId": "ffd61187-d165-41e3-97c4-a72d0dc22cef"
   },
   "outputs": [
    {
     "name": "stdout",
     "output_type": "stream",
     "text": [
      "Время выполнения расчета чисел Фибоначчи с декоратором: 0.00012373924255371094 секунд\n"
     ]
    }
   ],
   "source": [
    "# измеряем время выполнения\n",
    "start_time = time.time()\n",
    "result2 = fib(31)\n",
    "end_time = time.time()\n",
    "print(f\"Время выполнения расчета чисел Фибоначчи с декоратором: {end_time - start_time} секунд\")"
   ]
  }
 ],
 "metadata": {
  "colab": {
   "provenance": [
    {
     "file_id": "1-UyCnEGDaDE03y4YL50oDCVoP3KU7TUs",
     "timestamp": 1709655267090
    },
    {
     "file_id": "1_4cVzskv-DtMBZ8JbQRXmajse1KX3bRo",
     "timestamp": 1709391074736
    }
   ]
  },
  "kernelspec": {
   "display_name": "Python 3 (ipykernel)",
   "language": "python",
   "name": "python3"
  },
  "language_info": {
   "name": "python"
  },
  "toc": {
   "base_numbering": 1,
   "nav_menu": {},
   "number_sections": true,
   "sideBar": true,
   "skip_h1_title": false,
   "title_cell": "Table of Contents",
   "title_sidebar": "Contents",
   "toc_cell": false,
   "toc_position": {},
   "toc_section_display": true,
   "toc_window_display": false
  }
 },
 "nbformat": 4,
 "nbformat_minor": 1
}
